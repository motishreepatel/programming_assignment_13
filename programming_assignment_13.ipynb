{
 "cells": [
  {
   "cell_type": "code",
   "execution_count": 1,
   "metadata": {},
   "outputs": [
    {
     "name": "stdout",
     "output_type": "stream",
     "text": [
      "Values calculated according to the formula: \n",
      "Q1 = 18.257418583505537\n",
      "Q2 = 22.360679774997898\n",
      "Q3 = 24.49489742783178\n"
     ]
    }
   ],
   "source": [
    "#Q - Write a program that calculates and prints the value according to the given formula:\n",
    "'''Q = Square root of [(2 * C * D)/H]\n",
    "Following are the fixed values of C and H:\n",
    "C is 50. H is 30.\n",
    "D is the variable whose values should be input to your program in a comma-separated\n",
    "sequence.'''\n",
    "#Answer\n",
    "import math\n",
    "\n",
    "def calculate_values(d_value,c = 50,h = 30):\n",
    "    result = []\n",
    "    for d in d_value:\n",
    "        q = math.sqrt((2*c*int(d))/h)\n",
    "        result.append(q)\n",
    "    return result\n",
    "\n",
    "d_value = input(\"Enter comma separated values for d\").split(\",\")\n",
    "values = calculate_values(d_value)\n",
    "\n",
    "print(\"Values calculated according to the formula: \")\n",
    "for i, value in enumerate(values):\n",
    "    print(f\"Q{i+1} = {value}\")\n"
   ]
  },
  {
   "cell_type": "code",
   "execution_count": 3,
   "metadata": {},
   "outputs": [
    {
     "name": "stdout",
     "output_type": "stream",
     "text": [
      "Generated 2d array: \n",
      "[0, 0, 0, 0, 0]\n",
      "[0, 1, 2, 3, 4]\n",
      "[0, 2, 4, 6, 8]\n"
     ]
    }
   ],
   "source": [
    "#Q - Question 2:\n",
    "'''Write a program which takes 2 digits, X,Y as input and generates a 2-dimensional array. The\n",
    "element value in the i-th row and j-th column of the array should be i*j.\n",
    "Note: i=0,1.., X-1; j=0,1,¡Y-1.'''\n",
    "#Answer\n",
    "def generate_2d_array(X,Y):\n",
    "    array_2d = [[i * j for j in range(Y)] for i in range(X)]\n",
    "    return array_2d\n",
    "\n",
    "X = int(input(\"Enter value for X: \"))\n",
    "Y = int(input(\"Enter value for Y: \"))\n",
    "\n",
    "result_array = generate_2d_array(X,Y)\n",
    "\n",
    "print(\"Generated 2d array: \")\n",
    "for row in result_array:\n",
    "    print(row)"
   ]
  },
  {
   "cell_type": "code",
   "execution_count": 4,
   "metadata": {},
   "outputs": [
    {
     "name": "stdout",
     "output_type": "stream",
     "text": [
      "Sorted string is:  bag,hello,without,world\n"
     ]
    }
   ],
   "source": [
    "#Question 3:\n",
    "'''Write a program that accepts a comma separated sequence of words as input and prints the\n",
    "words in a comma-separated sequence after sorting them alphabetically.'''\n",
    "#Answer:\n",
    "def sort_sequence(str):\n",
    "    words = str.split(\",\")\n",
    "    sorted_words = sorted(words)\n",
    "    sorted_str = \",\".join(sorted_words)\n",
    "    return sorted_str\n",
    "\n",
    "input_str = \"without,hello,bag,world\"\n",
    "print(\"Sorted string is: \",sort_sequence(input_str))\n"
   ]
  },
  {
   "cell_type": "code",
   "execution_count": 5,
   "metadata": {},
   "outputs": [
    {
     "name": "stdout",
     "output_type": "stream",
     "text": [
      "The result will be:  again and hello makes perfect practice world\n"
     ]
    }
   ],
   "source": [
    "#Question 4:\n",
    "'''Write a program that accepts a sequence of whitespace separated words as input and prints\n",
    "the words after removing all duplicate words and sorting them alphanumerically.'''\n",
    "#Answer:\n",
    "def sort_string_alphanumerically(str):\n",
    "    words = str.split()\n",
    "    unique_words = list(set(words))\n",
    "    sorted_words = sorted(unique_words)\n",
    "    sorted_str = \" \".join(sorted_words)\n",
    "    return sorted_str\n",
    "\n",
    "input_str = \"hello world and practice makes perfect and hello world again\"\n",
    "print(\"The result will be: \",sort_string_alphanumerically(input_str))"
   ]
  },
  {
   "cell_type": "code",
   "execution_count": 7,
   "metadata": {},
   "outputs": [
    {
     "name": "stdout",
     "output_type": "stream",
     "text": [
      "letters_count:  10 digits_count:  3\n"
     ]
    }
   ],
   "source": [
    "#Question 5:\n",
    "#Write a program that accepts a sentence and calculate the number of letters and digits.\n",
    "#Answer:\n",
    "def calculate_digits_and_letters(sentence):\n",
    "    letters_count = 0\n",
    "    digits_count = 0\n",
    "\n",
    "    for i in sentence:\n",
    "        if i.isalpha():\n",
    "            letters_count += 1\n",
    "        elif i.isdigit():\n",
    "            digits_count += 1\n",
    "    return letters_count, digits_count\n",
    "\n",
    "input_sentence = \"hello world! 123\"\n",
    "letters_count,digits_count = calculate_digits_and_letters(input_sentence)\n",
    "print(\"letters_count: \",letters_count,\"digits_count: \",digits_count)"
   ]
  },
  {
   "cell_type": "code",
   "execution_count": 8,
   "metadata": {},
   "outputs": [
    {
     "name": "stdout",
     "output_type": "stream",
     "text": [
      "Valid passwords are ABd1234@1\n"
     ]
    }
   ],
   "source": [
    "#Q -A website requires the users to input username and password to register. Write a program to\n",
    "'''check the validity of password input by users.\n",
    "Following are the criteria for checking the password:\n",
    "1. At least 1 letter between [a-z]\n",
    "2. At least 1 number between [0-9]\n",
    "1. At least 1 letter between [A-Z]\n",
    "3. At least 1 character from [$#@]\n",
    "4. Minimum length of transaction password: 6\n",
    "5. Maximum length of transaction password: 12\n",
    "Your program should accept a sequence of comma separated passwords and will check them\n",
    "according to the above criteria. Passwords that match the criteria are to be printed, each\n",
    "separated by a comma.'''\n",
    "\n",
    "#Answer:\n",
    "import re\n",
    "def check_password_validity(password):\n",
    "    if (len(password)<6 or len(password)>12):\n",
    "        return False\n",
    "    \n",
    "    if not re.search(r\"[a-z]\",password):\n",
    "        return False\n",
    "    \n",
    "    if not re.search(r\"[0-9]\",password):\n",
    "        return False\n",
    "\n",
    "    if not re.search(r\"[A-Z]\",password):\n",
    "        return False\n",
    "    \n",
    "    if not re.search(r\"[$#@]\",password):\n",
    "        return False\n",
    "    \n",
    "    return True\n",
    "\n",
    "input_passwords = input(\"Enter comma separated passwords: \").split(\",\")\n",
    "valid_passwords = []\n",
    "\n",
    "for pwd in input_passwords:\n",
    "    if check_password_validity(pwd):\n",
    "        valid_passwords.append(pwd)\n",
    "\n",
    "valid_password_str = \",\".join(valid_passwords)\n",
    "print(\"Valid passwords are\",valid_password_str)\n"
   ]
  },
  {
   "cell_type": "code",
   "execution_count": null,
   "metadata": {},
   "outputs": [],
   "source": []
  }
 ],
 "metadata": {
  "kernelspec": {
   "display_name": "Python 3.9.6 64-bit",
   "language": "python",
   "name": "python3"
  },
  "language_info": {
   "codemirror_mode": {
    "name": "ipython",
    "version": 3
   },
   "file_extension": ".py",
   "mimetype": "text/x-python",
   "name": "python",
   "nbconvert_exporter": "python",
   "pygments_lexer": "ipython3",
   "version": "3.9.6"
  },
  "orig_nbformat": 4,
  "vscode": {
   "interpreter": {
    "hash": "31f2aee4e71d21fbe5cf8b01ff0e069b9275f58929596ceb00d14d90e3e16cd6"
   }
  }
 },
 "nbformat": 4,
 "nbformat_minor": 2
}
